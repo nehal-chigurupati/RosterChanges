{
 "cells": [
  {
   "cell_type": "code",
   "execution_count": 1,
   "id": "b4345b1e",
   "metadata": {},
   "outputs": [],
   "source": [
    "import numpy as np\n",
    "import pandas as pd\n",
    "from sqlalchemy import create_engine"
   ]
  },
  {
   "cell_type": "code",
   "execution_count": 2,
   "id": "0ffd50e3",
   "metadata": {},
   "outputs": [],
   "source": [
    "engine = create_engine(\"sqlite:///Data/team_database.db\")"
   ]
  },
  {
   "cell_type": "code",
   "execution_count": 3,
   "id": "4713630a",
   "metadata": {},
   "outputs": [],
   "source": [
    "training_data = pd.read_sql(\"WIN_NUM_ROSTER_CHANGE_DATA\", engine)"
   ]
  },
  {
   "cell_type": "code",
   "execution_count": 19,
   "id": "2dbec830",
   "metadata": {},
   "outputs": [],
   "source": [
    "ranges = []\n",
    "prob_increase = []\n",
    "average_increase = []\n",
    "average_change = []\n",
    "for i in range(0, 100, 10):\n",
    "    lower_bound = float(i) / 100\n",
    "    upper_bound = (float(i) + 10) / 100\n",
    "    \n",
    "    teams = training_data[training_data[\"CHANGE_ROSTERS\"] >= lower_bound]\n",
    "    teams = teams[teams[\"CHANGE_ROSTERS\"] < upper_bound]\n",
    "    \n",
    "    if len(teams) > 0:\n",
    "        ranges.append(\"(\" + str(lower_bound) + \", \" + str(upper_bound) + \"]\")\n",
    "        prob_increase.append(len(teams[teams[\"CHANGE_NUM_WINS\"] > 0]) / len(teams))\n",
    "        average_increase.append(np.mean(teams[teams[\"CHANGE_NUM_WINS\"] > 0][\"CHANGE_NUM_WINS\"]))\n",
    "        average_change.append(np.mean(teams[\"CHANGE_NUM_WINS\"]))"
   ]
  },
  {
   "cell_type": "code",
   "execution_count": 20,
   "id": "0aa3670b",
   "metadata": {},
   "outputs": [],
   "source": [
    "df = pd.DataFrame({\"ROSTER_CHANGE_INTERVAL\": ranges, \"PROB_INCREASE_WINS\": prob_increase, \"AVG_INCREASE\": average_increase, \"AVG_CHANGE\": average_change})"
   ]
  },
  {
   "cell_type": "code",
   "execution_count": 21,
   "id": "51a7694c",
   "metadata": {},
   "outputs": [],
   "source": [
    "df.to_sql(\"WIN_COUNT_INCREASE_PROBS\", engine, if_exists=\"replace\", index=False)\n",
    "df.to_csv(\"Data/win_count_increase_probs.csv\")"
   ]
  }
 ],
 "metadata": {
  "kernelspec": {
   "display_name": "Python 3",
   "language": "python",
   "name": "python3"
  },
  "language_info": {
   "codemirror_mode": {
    "name": "ipython",
    "version": 3
   },
   "file_extension": ".py",
   "mimetype": "text/x-python",
   "name": "python",
   "nbconvert_exporter": "python",
   "pygments_lexer": "ipython3",
   "version": "3.11.4"
  }
 },
 "nbformat": 4,
 "nbformat_minor": 5
}
