{
 "cells": [
  {
   "cell_type": "code",
   "execution_count": 26,
   "id": "57256cd2",
   "metadata": {},
   "outputs": [],
   "source": [
    "import numpy as np\n",
    "import pandas as pd\n",
    "from sqlalchemy import create_engine\n",
    "from utils import next_season, pct_change_rosters, get_last_year_from_season"
   ]
  },
  {
   "cell_type": "code",
   "execution_count": 27,
   "id": "c4729655",
   "metadata": {},
   "outputs": [],
   "source": [
    "engine = create_engine(\"sqlite:///Data/team_database.db\")"
   ]
  },
  {
   "cell_type": "code",
   "execution_count": 28,
   "id": "4dd185ec",
   "metadata": {},
   "outputs": [],
   "source": [
    "#Get data from sqlite database\n",
    "rosters = pd.read_sql(\"TEAM_SEASON_ROSTERS\", engine)\n",
    "team_info = pd.read_sql(\"TEAM_IDS\", engine)\n",
    "team_seasons = pd.read_sql(\"TEAM_SEASONS\", engine)\n",
    "advanced_stats = pd.read_sql(\"TEAM_SEASON_ADVANCED_DATA\", engine)"
   ]
  },
  {
   "cell_type": "code",
   "execution_count": 29,
   "id": "aecc8986",
   "metadata": {},
   "outputs": [],
   "source": [
    "\"\"\"\n",
    "Each data point is going to include a season, \n",
    "a team, \n",
    "the team's change in wins between the specified season and the next.\n",
    "and the percent change in roster personnel between the specified season and the next.\n",
    "\"\"\"\n",
    "seasons = []\n",
    "team_ids = []\n",
    "team_abbrevs = []\n",
    "change_num_wins = []\n",
    "change_rosters = []\n",
    "change_net_ratings = []"
   ]
  },
  {
   "cell_type": "code",
   "execution_count": 30,
   "id": "66572120",
   "metadata": {},
   "outputs": [],
   "source": [
    "#Filter down to seasons after the 2001-02 season. Don't include the current season.\n",
    "recent_seasons = [szn for szn in team_seasons[\"YEAR\"].tolist() if int(szn[0:4]) > 2001 and int(szn[0:4]) < 2023]"
   ]
  },
  {
   "cell_type": "code",
   "execution_count": 31,
   "id": "1d999605",
   "metadata": {},
   "outputs": [],
   "source": [
    "\"\"\"\n",
    "The strategy for the below is to remove teams that are tanking. Right now, I'm not going to add this to the analysis.\n",
    "Only include roster changes that don't involve tanking.\n",
    "This is done by only accepting teams that are top 8 seeds before and after. \n",
    "Probably not the most reliable technique.\n",
    "For instance, the Russell Westbrook trade to the Lakers wasn't tanking, but it resulted in the Lakers\n",
    "going from a playoff team to missing the play-in. But the strategy should suffice for now. \n",
    "\"\"\"\n",
    "\"\"\"\n",
    "filtered_team_seasons = team_seasons[team_seasons[\"CONF_RANK\"] >= 8]\n",
    "filtered_team_seasons = filtered_team_seasons[filtered_team_seasons[\"YEAR\"].isin(recent_seasons)]\n",
    "\"\"\"\n",
    "filtered_team_seasons = team_seasons[team_seasons[\"YEAR\"].isin(recent_seasons)]"
   ]
  },
  {
   "cell_type": "code",
   "execution_count": 32,
   "id": "a43bdd99",
   "metadata": {},
   "outputs": [],
   "source": [
    "for index, row in filtered_team_seasons.iterrows():\n",
    "    matches = filtered_team_seasons[filtered_team_seasons[\"YEAR\"] == next_season(row[\"YEAR\"])]\n",
    "    matches = matches[matches[\"TEAM_ID\"] == row[\"TEAM_ID\"]]\n",
    "    if len(matches) == 1:\n",
    "        following_season = matches.iloc[0]\n",
    "        #Let's try just getting rid of teams that made a terrible trade or tanking.\n",
    "        if following_season[\"WINS\"] - row[\"WINS\"] > -20:\n",
    "            seasons.append(row[\"YEAR\"])\n",
    "            team_ids.append(row[\"TEAM_ID\"])\n",
    "            team_abbrevs.append(team_info[team_info[\"ID\"] == row[\"TEAM_ID\"]][\"ABBREV\"].iloc[0])\n",
    "            change_num_wins.append(following_season[\"WINS\"] - row[\"WINS\"])\n",
    "\n",
    "            team_rosters = rosters[rosters[\"TeamID\"] == row[\"TEAM_ID\"]]\n",
    "            initial_roster = team_rosters[team_rosters[\"SEASON\"] == get_last_year_from_season(row[\"YEAR\"])]\n",
    "            final_roster = team_rosters[team_rosters[\"SEASON\"] == get_last_year_from_season(following_season[\"YEAR\"])]\n",
    "            change_rosters.append(pct_change_rosters(initial_roster, final_roster))\n",
    "            \n",
    "            team_advanced_stats = advanced_stats[advanced_stats[\"TEAM_ID\"] == row[\"TEAM_ID\"]]\n",
    "            initial_net_rtg = team_advanced_stats[team_advanced_stats[\"SEASON\"] == row[\"YEAR\"]][\"E_NET_RATING\"].iloc[0]\n",
    "            final_net_rtg = team_advanced_stats[team_advanced_stats[\"SEASON\"] == following_season[\"YEAR\"]][\"E_NET_RATING\"].iloc[0]\n",
    "            change_net_ratings.append(final_net_rtg-initial_net_rtg)\n",
    "            "
   ]
  },
  {
   "cell_type": "code",
   "execution_count": 35,
   "id": "48422362",
   "metadata": {},
   "outputs": [],
   "source": [
    "out_dict = {\n",
    "    \"SEASON\": seasons, \n",
    "    \"TEAM_ID\": team_ids, \n",
    "    \"TEAM_ABBREV\": team_abbrevs, \n",
    "    \"CHANGE_NUM_WINS\": change_num_wins,\n",
    "    \"CHANGE_ROSTERS\": change_rosters,\n",
    "    \"CHANGE_NET_RTG\": change_net_ratings\n",
    "}\n",
    "out = pd.DataFrame(out_dict)"
   ]
  },
  {
   "cell_type": "code",
   "execution_count": 36,
   "id": "4adb05fe",
   "metadata": {},
   "outputs": [
    {
     "data": {
      "text/plain": [
       "573"
      ]
     },
     "execution_count": 36,
     "metadata": {},
     "output_type": "execute_result"
    }
   ],
   "source": [
    "out.to_sql(\"WIN_NUM_ROSTER_CHANGE_DATA\", engine, if_exists=\"replace\", index=False)"
   ]
  },
  {
   "cell_type": "code",
   "execution_count": 37,
   "id": "5ef88cf5",
   "metadata": {},
   "outputs": [],
   "source": [
    "out.to_csv(\"Data/WIN_NUM_ROSTER_CHANGE_DATA.csv\")"
   ]
  },
  {
   "cell_type": "code",
   "execution_count": null,
   "id": "0254e748",
   "metadata": {},
   "outputs": [],
   "source": []
  }
 ],
 "metadata": {
  "kernelspec": {
   "display_name": "Python 3",
   "language": "python",
   "name": "python3"
  },
  "language_info": {
   "codemirror_mode": {
    "name": "ipython",
    "version": 3
   },
   "file_extension": ".py",
   "mimetype": "text/x-python",
   "name": "python",
   "nbconvert_exporter": "python",
   "pygments_lexer": "ipython3",
   "version": "3.11.4"
  }
 },
 "nbformat": 4,
 "nbformat_minor": 5
}
