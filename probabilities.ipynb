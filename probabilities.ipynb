{
 "cells": [
  {
   "cell_type": "code",
   "execution_count": 1,
   "id": "b4345b1e",
   "metadata": {},
   "outputs": [],
   "source": [
    "import numpy as np\n",
    "import pandas as pd\n",
    "from sqlalchemy import create_engine"
   ]
  },
  {
   "cell_type": "code",
   "execution_count": 2,
   "id": "0ffd50e3",
   "metadata": {},
   "outputs": [],
   "source": [
    "engine = create_engine(\"sqlite:///Data/team_database.db\")"
   ]
  },
  {
   "cell_type": "code",
   "execution_count": 3,
   "id": "4713630a",
   "metadata": {},
   "outputs": [],
   "source": [
    "training_data = pd.read_sql(\"WIN_NUM_ROSTER_CHANGE_DATA\", engine)"
   ]
  },
  {
   "cell_type": "code",
   "execution_count": 4,
   "id": "22629b09",
   "metadata": {},
   "outputs": [
    {
     "name": "stdout",
     "output_type": "stream",
     "text": [
      "Index(['SEASON', 'TEAM_ID', 'TEAM_ABBREV', 'CHANGE_NUM_WINS', 'CHANGE_ROSTERS',\n",
      "       'CHANGE_NET_RTG', 'CHANGE_PLAYOFF_WINS'],\n",
      "      dtype='object')\n"
     ]
    }
   ],
   "source": [
    "print(training_data.columns)"
   ]
  },
  {
   "cell_type": "code",
   "execution_count": 5,
   "id": "2dbec830",
   "metadata": {},
   "outputs": [],
   "source": [
    "ranges = []\n",
    "prob_increase_num_wins = []\n",
    "average_increase = []\n",
    "average_increase_num_playoff_wins = []\n",
    "prob_increase_num_playoff_wins = []\n",
    "\n",
    "for i in range(0, 100, 10):\n",
    "    lower_bound = float(i) / 100\n",
    "    upper_bound = (float(i) + 10) / 100\n",
    "\n",
    "    teams = training_data[training_data[\"CHANGE_ROSTERS\"] >= lower_bound]\n",
    "    teams = teams[teams[\"CHANGE_ROSTERS\"] < upper_bound]\n",
    "\n",
    "    teams = teams[teams[\"CHANGE_NET_RTG\"] >= 0]\n",
    "    teams = teams[teams[\"CHANGE_NET_RTG\"] < 5]\n",
    "\n",
    "    if len(teams) > 0:\n",
    "        ranges.append(\"[\" + str(lower_bound) + \", \" + str(upper_bound) + \")\")\n",
    "        prob_increase_num_wins.append(len(teams[teams[\"CHANGE_NUM_WINS\"] > 0]) / len(teams))\n",
    "        prob_increase_num_playoff_wins.append(len(teams[teams[\"CHANGE_PLAYOFF_WINS\"] > 0]) / len(teams))\n",
    "        average_increase.append(np.mean(teams[teams[\"CHANGE_NUM_WINS\"] > 0][\"CHANGE_NUM_WINS\"]))\n",
    "        average_increase_num_playoff_wins.append(np.mean(teams[teams[\"CHANGE_PLAYOFF_WINS\"] > 0][\"CHANGE_PLAYOFF_WINS\"]))"
   ]
  },
  {
   "cell_type": "code",
   "execution_count": 6,
   "id": "0aa3670b",
   "metadata": {},
   "outputs": [],
   "source": [
    "out_dict = {\n",
    "    \"ROSTER_CHANGE_INTERVAL\": ranges, \n",
    "    \"PROB_INCREASE_WINS\": prob_increase_num_wins,\n",
    "    \"PROB_INCREASE_PLAYOFF_WINS\": prob_increase_num_playoff_wins,\n",
    "    \"AVG_INCREASE_WINS\": average_increase, \n",
    "    \"AVG_INCREASE_PLAYOFF_WINS\": average_increase_num_playoff_wins\n",
    "}\n",
    "df = pd.DataFrame(out_dict)"
   ]
  },
  {
   "cell_type": "code",
   "execution_count": 7,
   "id": "0f690839",
   "metadata": {},
   "outputs": [
    {
     "name": "stdout",
     "output_type": "stream",
     "text": [
      "  ROSTER_CHANGE_INTERVAL  PROB_INCREASE_WINS  PROB_INCREASE_PLAYOFF_WINS  \\\n",
      "0             [0.0, 0.1)            1.000000                    0.000000   \n",
      "1             [0.1, 0.2)            0.700000                    0.700000   \n",
      "2             [0.2, 0.3)            0.941176                    0.352941   \n",
      "3             [0.3, 0.4)            0.871795                    0.487179   \n",
      "4             [0.4, 0.5)            0.772727                    0.454545   \n",
      "5             [0.5, 0.6)            0.800000                    0.333333   \n",
      "6             [0.6, 0.7)            0.692308                    0.282051   \n",
      "7             [0.7, 0.8)            0.777778                    0.222222   \n",
      "\n",
      "   AVG_INCREASE_WINS  AVG_INCREASE_PLAYOFF_WINS  \n",
      "0           3.000000                        NaN  \n",
      "1           6.000000                   3.714286  \n",
      "2           6.937500                   6.166667  \n",
      "3           6.764706                   6.157895  \n",
      "4           7.921569                   4.833333  \n",
      "5           6.791667                   3.400000  \n",
      "6           7.259259                   4.090909  \n",
      "7           6.571429                   4.000000  \n"
     ]
    }
   ],
   "source": [
    "print(df)"
   ]
  },
  {
   "cell_type": "code",
   "execution_count": 8,
   "id": "51a7694c",
   "metadata": {},
   "outputs": [],
   "source": [
    "df.to_sql(\"WIN_COUNT_INCREASE_PROBS\", engine, if_exists=\"replace\", index=False)\n",
    "df.to_csv(\"Data/win_count_increase_probs.csv\")"
   ]
  },
  {
   "cell_type": "code",
   "execution_count": null,
   "id": "c5228579",
   "metadata": {},
   "outputs": [],
   "source": []
  }
 ],
 "metadata": {
  "kernelspec": {
   "display_name": "Python 3",
   "language": "python",
   "name": "python3"
  },
  "language_info": {
   "codemirror_mode": {
    "name": "ipython",
    "version": 3
   },
   "file_extension": ".py",
   "mimetype": "text/x-python",
   "name": "python",
   "nbconvert_exporter": "python",
   "pygments_lexer": "ipython3",
   "version": "3.11.4"
  }
 },
 "nbformat": 4,
 "nbformat_minor": 5
}
