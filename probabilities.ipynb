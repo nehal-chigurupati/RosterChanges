{
 "cells": [
  {
   "cell_type": "code",
   "execution_count": 1,
   "id": "b4345b1e",
   "metadata": {},
   "outputs": [],
   "source": [
    "import numpy as np\n",
    "import pandas as pd\n",
    "from sqlalchemy import create_engine"
   ]
  },
  {
   "cell_type": "code",
   "execution_count": 24,
   "id": "0ffd50e3",
   "metadata": {},
   "outputs": [],
   "source": [
    "engine = create_engine(\"sqlite:///Data/team_database.db\")"
   ]
  },
  {
   "cell_type": "code",
   "execution_count": 25,
   "id": "4713630a",
   "metadata": {},
   "outputs": [],
   "source": [
    "training_data = pd.read_sql(\"WIN_NUM_ROSTER_CHANGE_DATA\", engine)"
   ]
  },
  {
   "cell_type": "code",
   "execution_count": 28,
   "id": "22629b09",
   "metadata": {},
   "outputs": [
    {
     "name": "stdout",
     "output_type": "stream",
     "text": [
      "Index(['SEASON', 'TEAM_ID', 'TEAM_ABBREV', 'CHANGE_NUM_WINS', 'CHANGE_ROSTERS',\n",
      "       'CHANGE_NET_RTG'],\n",
      "      dtype='object')\n"
     ]
    }
   ],
   "source": [
    "print(training_data.columns)"
   ]
  },
  {
   "cell_type": "code",
   "execution_count": 49,
   "id": "2dbec830",
   "metadata": {},
   "outputs": [],
   "source": [
    "ranges = []\n",
    "prob_increase = []\n",
    "average_increase = []\n",
    "average_change = []\n",
    "net_rating_range = []\n",
    "for lower_bound_net_rating in range(0, 10, 5):\n",
    "    for i in range(0, 100, 10):\n",
    "        lower_bound = float(i) / 100\n",
    "        upper_bound = (float(i) + 10) / 100\n",
    "\n",
    "        teams = training_data[training_data[\"CHANGE_ROSTERS\"] >= lower_bound]\n",
    "        teams = teams[teams[\"CHANGE_ROSTERS\"] < upper_bound]\n",
    "\n",
    "        teams = teams[teams[\"CHANGE_NET_RTG\"] >= lower_bound_net_rating]\n",
    "        teams = teams[teams[\"CHANGE_NET_RTG\"] < (lower_bound_net_rating + 5)]\n",
    "\n",
    "        if len(teams) > 0:\n",
    "            ranges.append(\"[\" + str(lower_bound) + \", \" + str(upper_bound) + \")\")\n",
    "            prob_increase.append(len(teams[teams[\"CHANGE_NUM_WINS\"] > 0]) / len(teams))\n",
    "            average_increase.append(np.mean(teams[teams[\"CHANGE_NUM_WINS\"] > 0][\"CHANGE_NUM_WINS\"]))\n",
    "            average_change.append(np.mean(teams[\"CHANGE_NUM_WINS\"]))\n",
    "            net_rating_range.append(\"[\" + str(lower_bound_net_rating) + \", \" + str(lower_bound_net_rating + 5) + \"]\")\n",
    "            "
   ]
  },
  {
   "cell_type": "code",
   "execution_count": 50,
   "id": "0aa3670b",
   "metadata": {},
   "outputs": [],
   "source": [
    "df = pd.DataFrame({\"ROSTER_CHANGE_INTERVAL\": ranges, \"PROB_INCREASE_WINS\": prob_increase, \"AVG_INCREASE\": average_increase, \"AVG_CHANGE\": average_change, \"NET_RTG_CHANGE\": net_rating_range})"
   ]
  },
  {
   "cell_type": "code",
   "execution_count": 51,
   "id": "0f690839",
   "metadata": {},
   "outputs": [
    {
     "name": "stdout",
     "output_type": "stream",
     "text": [
      "   ROSTER_CHANGE_INTERVAL  PROB_INCREASE_WINS  AVG_INCREASE  AVG_CHANGE  \\\n",
      "0              [0.0, 0.1)            1.000000      3.000000    3.000000   \n",
      "1              [0.1, 0.2)            0.700000      6.000000    2.500000   \n",
      "2              [0.2, 0.3)            0.941176      6.937500    6.352941   \n",
      "3              [0.3, 0.4)            0.871795      6.764706    5.410256   \n",
      "4              [0.4, 0.5)            0.772727      7.921569    5.454545   \n",
      "5              [0.5, 0.6)            0.800000      6.791667    4.850000   \n",
      "6              [0.6, 0.7)            0.692308      7.259259    3.974359   \n",
      "7              [0.7, 0.8)            0.777778      6.571429    5.111111   \n",
      "8              [0.1, 0.2)            1.000000     13.750000   13.750000   \n",
      "9              [0.2, 0.3)            1.000000     20.333333   20.333333   \n",
      "10             [0.3, 0.4)            1.000000     16.250000   16.250000   \n",
      "11             [0.4, 0.5)            1.000000     14.555556   14.555556   \n",
      "12             [0.5, 0.6)            1.000000     14.875000   14.875000   \n",
      "13             [0.6, 0.7)            0.900000     13.333333   11.600000   \n",
      "14             [0.7, 0.8)            1.000000     17.000000   17.000000   \n",
      "\n",
      "   NET_RTG_CHANGE  \n",
      "0          [0, 5]  \n",
      "1          [0, 5]  \n",
      "2          [0, 5]  \n",
      "3          [0, 5]  \n",
      "4          [0, 5]  \n",
      "5          [0, 5]  \n",
      "6          [0, 5]  \n",
      "7          [0, 5]  \n",
      "8         [5, 10]  \n",
      "9         [5, 10]  \n",
      "10        [5, 10]  \n",
      "11        [5, 10]  \n",
      "12        [5, 10]  \n",
      "13        [5, 10]  \n",
      "14        [5, 10]  \n"
     ]
    }
   ],
   "source": [
    "print(df)"
   ]
  },
  {
   "cell_type": "code",
   "execution_count": 52,
   "id": "51a7694c",
   "metadata": {},
   "outputs": [],
   "source": [
    "df.to_sql(\"WIN_COUNT_INCREASE_PROBS\", engine, if_exists=\"replace\", index=False)\n",
    "df.to_csv(\"Data/win_count_increase_probs.csv\")"
   ]
  },
  {
   "cell_type": "code",
   "execution_count": null,
   "id": "c5228579",
   "metadata": {},
   "outputs": [],
   "source": []
  }
 ],
 "metadata": {
  "kernelspec": {
   "display_name": "Python 3",
   "language": "python",
   "name": "python3"
  },
  "language_info": {
   "codemirror_mode": {
    "name": "ipython",
    "version": 3
   },
   "file_extension": ".py",
   "mimetype": "text/x-python",
   "name": "python",
   "nbconvert_exporter": "python",
   "pygments_lexer": "ipython3",
   "version": "3.11.4"
  }
 },
 "nbformat": 4,
 "nbformat_minor": 5
}
